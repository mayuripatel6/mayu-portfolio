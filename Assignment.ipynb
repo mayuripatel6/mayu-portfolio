{
 "cells": [
  {
   "cell_type": "code",
   "execution_count": 13,
   "metadata": {},
   "outputs": [
    {
     "name": "stdout",
     "output_type": "stream",
     "text": [
      "   Id       RI     Na    Mg    Al     Si     K    Ca   Be   Fe  Type of glass\n",
      "0   1  1.52101  13.64  4.49  1.10  71.78  0.06  8.75  0.0  0.0              1\n",
      "1   2  1.51761  13.89  3.60  1.36  72.73  0.48  7.83  0.0  0.0              1\n",
      "2   3  1.51618  13.53  3.55  1.54  72.99  0.39  7.78  0.0  0.0              1\n",
      "3   4  1.51766  13.21  3.69  1.29  72.61  0.57  8.22  0.0  0.0              1\n",
      "4   5  1.51742  13.27  3.62  1.24  73.08  0.55  8.07  0.0  0.0              1\n"
     ]
    }
   ],
   "source": [
    "import pandas as pd\n",
    "import numpy as np\n",
    "import matplotlib.pyplot as plt\n",
    "from sklearn.preprocessing import LabelEncoder\n",
    "from sklearn.preprocessing import StandardScaler\n",
    "\n",
    "data = pd.read_csv('glass.data', delimiter=\",\", names= ['Id', 'RI', 'Na', 'Mg', 'Al', 'Si', 'K', 'Ca', 'Be', 'Fe', 'Type of glass'])\n",
    "print(data.head())\n",
    "\n",
    "\n",
    "\n"
   ]
  },
  {
   "cell_type": "code",
   "execution_count": 14,
   "metadata": {},
   "outputs": [
    {
     "name": "stdout",
     "output_type": "stream",
     "text": [
      "<class 'pandas.core.frame.DataFrame'>\n",
      "RangeIndex: 214 entries, 0 to 213\n",
      "Data columns (total 11 columns):\n",
      " #   Column         Non-Null Count  Dtype  \n",
      "---  ------         --------------  -----  \n",
      " 0   Id             214 non-null    int64  \n",
      " 1   RI             214 non-null    float64\n",
      " 2   Na             214 non-null    float64\n",
      " 3   Mg             214 non-null    float64\n",
      " 4   Al             214 non-null    float64\n",
      " 5   Si             214 non-null    float64\n",
      " 6   K              214 non-null    float64\n",
      " 7   Ca             214 non-null    float64\n",
      " 8   Be             214 non-null    float64\n",
      " 9   Fe             214 non-null    float64\n",
      " 10  Type of glass  214 non-null    int64  \n",
      "dtypes: float64(9), int64(2)\n",
      "memory usage: 18.5 KB\n",
      "None\n"
     ]
    }
   ],
   "source": [
    "## Preprocessing: Understanding the data \n",
    "print(data.info())"
   ]
  },
  {
   "cell_type": "code",
   "execution_count": 19,
   "metadata": {},
   "outputs": [
    {
     "name": "stdout",
     "output_type": "stream",
     "text": [
      "Empty DataFrame\n",
      "Columns: [Id, RI, Na, Mg, Al, Si, K, Ca, Be, Fe, Type of glass]\n",
      "Index: []\n"
     ]
    }
   ],
   "source": [
    "## Preprocessing : Dropping rows with missing values\n",
    "#checking for null values\n",
    "dropped_rows = data[data.isnull().any(axis=1)]\n",
    "print(dropped_rows)\n",
    "\n",
    "#checking for duplicates\n",
    "duplicates = data[data.duplicated(keep='first')]\n",
    "print(duplicates)\n",
    "data.dropna(inplace=True)\n",
    "\n",
    "#no duplicates or missing values "
   ]
  },
  {
   "cell_type": "code",
   "execution_count": 39,
   "metadata": {},
   "outputs": [
    {
     "name": "stdout",
     "output_type": "stream",
     "text": [
      "RI              -8.715770e-17\n",
      "Na               1.792958e-15\n",
      "Mg              -2.656235e-16\n",
      "Al              -1.660147e-16\n",
      "Si               7.304645e-16\n",
      "K                2.905257e-17\n",
      "Ca              -4.814425e-16\n",
      "Be               0.000000e+00\n",
      "Fe              -7.781937e-18\n",
      "Type of glass    2.780374e+00\n",
      "Id               1.075000e+02\n",
      "dtype: float64\n",
      "         RI       Na        Mg        Al        Si         K        Ca  \\\n",
      "0  0.002645  0.23215  1.805467 -0.344907 -0.870935 -0.437056 -0.206963   \n",
      "1 -0.000755  0.48215  0.915467 -0.084907  0.079065 -0.017056 -1.126963   \n",
      "2 -0.002185  0.12215  0.865467  0.095093  0.339065 -0.107056 -1.176963   \n",
      "3 -0.000705 -0.19785  1.005467 -0.154907 -0.040935  0.072944 -0.736963   \n",
      "4 -0.000945 -0.13785  0.935467 -0.204907  0.429065  0.052944 -0.886963   \n",
      "\n",
      "         Be        Fe  Type of glass  Id  \n",
      "0 -0.175047 -0.057009              1   1  \n",
      "1 -0.175047 -0.057009              1   2  \n",
      "2 -0.175047 -0.057009              1   3  \n",
      "3 -0.175047 -0.057009              1   4  \n",
      "4 -0.175047 -0.057009              1   5  \n"
     ]
    }
   ],
   "source": [
    "## Preprocessing: Stadardising the data - centre the data\n",
    "#subtracting mean from values in each column except Id and Type of glass columns \n",
    "centred_data = data[data.columns[1:-1]].apply(lambda x : x-x.mean())\n",
    "typeOfGlass = pd.DataFrame(data['Type of glass'])\n",
    "centred_data = pd.concat([centred_data, typeOfGlass], axis=1)\n",
    "ID = pd.DataFrame(data['Id'])\n",
    "centred_data = pd.concat([centred_data, ID], axis =1)\n",
    "print(centred_data.mean())\n",
    "print(centred_data.head())"
   ]
  },
  {
   "cell_type": "code",
   "execution_count": 50,
   "metadata": {},
   "outputs": [
    {
     "data": {
      "text/plain": [
       "Text(0.5, 1.0, 'Histogram of glass type distribution')"
      ]
     },
     "execution_count": 50,
     "metadata": {},
     "output_type": "execute_result"
    },
    {
     "data": {
      "image/png": "[encoded data removed]",
      "text/plain": [
       "<Figure size 640x480 with 1 Axes>"
      ]
     },
     "metadata": {},
     "output_type": "display_data"
    }
   ],
   "source": [
    "#print(centred_data.describe())\n",
    "\n",
    "plt.hist(centred_data['Type of glass'], bins= 20, edgecolor = 'black')\n",
    "plt.xlabel('Type of Glass')\n",
    "plt.ylabel('Frequency')\n",
    "plt.title('Histogram of glass type distribution')\n"
   ]
  },
  {
   "cell_type": "code",
   "execution_count": 158,
   "metadata": {},
   "outputs": [],
   "source": [
    "\n",
    "#centred_data = centred_data.drop(columns='ID')\n",
    "scaler = StandardScaler()\n",
    "centred_data = scaler.fit_transform(centred_data)\n",
    "#print(centred_data.head)"
   ]
  },
  {
   "cell_type": "code",
   "execution_count": 160,
   "metadata": {},
   "outputs": [],
   "source": [
    "#Transposing the dataset\n",
    "\n",
    "dataT = centred_data.T\n",
    "#print(dataT.head)"
   ]
  },
  {
   "cell_type": "code",
   "execution_count": 161,
   "metadata": {},
   "outputs": [
    {
     "name": "stdout",
     "output_type": "stream",
     "text": [
      "[[ 1.00000000e+00 -1.91885379e-01 -1.22274039e-01 -4.07326034e-01\n",
      "  -5.42052200e-01 -2.89832711e-01  8.10402696e-01 -3.86018912e-04\n",
      "   1.43009609e-01 -1.64237215e-01]\n",
      " [-1.91885379e-01  1.00000000e+00 -2.73731961e-01  1.56793667e-01\n",
      "  -6.98088065e-02 -2.66086504e-01 -2.75442486e-01  3.26602879e-01\n",
      "  -2.41346411e-01  5.02898042e-01]\n",
      " [-1.22274039e-01 -2.73731961e-01  1.00000000e+00 -4.81798509e-01\n",
      "  -1.65926723e-01  5.39566728e-03 -4.43750026e-01 -4.92262118e-01\n",
      "   8.30595289e-02 -7.44992888e-01]\n",
      " [-4.07326034e-01  1.56793667e-01 -4.81798509e-01  1.00000000e+00\n",
      "  -5.52372042e-03  3.25958446e-01 -2.59592010e-01  4.79403902e-01\n",
      "  -7.44021509e-02  5.98829208e-01]\n",
      " [-5.42052200e-01 -6.98088065e-02 -1.65926723e-01 -5.52372042e-03\n",
      "   1.00000000e+00 -1.93330854e-01 -2.08732154e-01 -1.02151310e-01\n",
      "  -9.42007305e-02  1.51565258e-01]\n",
      " [-2.89832711e-01 -2.66086504e-01  5.39566728e-03  3.25958446e-01\n",
      "  -1.93330854e-01  1.00000000e+00 -3.17836155e-01 -4.26180594e-02\n",
      "  -7.71904912e-03 -1.00544638e-02]\n",
      " [ 8.10402696e-01 -2.75442486e-01 -4.43750026e-01 -2.59592010e-01\n",
      "  -2.08732154e-01 -3.17836155e-01  1.00000000e+00 -1.12840967e-01\n",
      "   1.24968219e-01  9.52224564e-04]\n",
      " [-3.86018912e-04  3.26602879e-01 -4.92262118e-01  4.79403902e-01\n",
      "  -1.02151310e-01 -4.26180594e-02 -1.12840967e-01  1.00000000e+00\n",
      "  -5.86917554e-02  5.75161459e-01]\n",
      " [ 1.43009609e-01 -2.41346411e-01  8.30595289e-02 -7.44021509e-02\n",
      "  -9.42007305e-02 -7.71904912e-03  1.24968219e-01 -5.86917554e-02\n",
      "   1.00000000e+00 -1.88277564e-01]\n",
      " [-1.64237215e-01  5.02898042e-01 -7.44992888e-01  5.98829208e-01\n",
      "   1.51565258e-01 -1.00544638e-02  9.52224564e-04  5.75161459e-01\n",
      "  -1.88277564e-01  1.00000000e+00]]\n"
     ]
    }
   ],
   "source": [
    "#Covariance matrix\n",
    "#data2 = pd.read_csv('glass.data', delimiter=\",\")\n",
    "#centred_data2 = data2[data2.columns[1:-1]].apply(lambda x : x-x.mean())\n",
    "cov_matrix = 1/214*(np.dot(dataT,centred_data))\n",
    "print(cov_matrix)"
   ]
  },
  {
   "cell_type": "code",
   "execution_count": 163,
   "metadata": {},
   "outputs": [
    {
     "name": "stdout",
     "output_type": "stream",
     "text": [
      "[[ 1.00469484e+00 -1.92786249e-01 -1.22848096e-01 -4.09238363e-01\n",
      "  -5.44597046e-01 -2.91193428e-01  8.14207404e-01 -3.87831208e-04\n",
      "   1.43681016e-01 -1.65008281e-01]\n",
      " [-1.92786249e-01  1.00469484e+00 -2.75017087e-01  1.57529788e-01\n",
      "  -7.01365474e-02 -2.67335737e-01 -2.76735643e-01  3.28136226e-01\n",
      "  -2.42479493e-01  5.05259066e-01]\n",
      " [-1.22848096e-01 -2.75017087e-01  1.00469484e+00 -4.84060474e-01\n",
      "  -1.66705721e-01  5.42099905e-03 -4.45833360e-01 -4.94573208e-01\n",
      "   8.34494798e-02 -7.48490507e-01]\n",
      " [-4.09238363e-01  1.57529788e-01 -4.84060474e-01  1.00469484e+00\n",
      "  -5.54965338e-03  3.27488767e-01 -2.60810752e-01  4.81654624e-01\n",
      "  -7.47514567e-02  6.01640613e-01]\n",
      " [-5.44597046e-01 -7.01365474e-02 -1.66705721e-01 -5.54965338e-03\n",
      "   1.00469484e+00 -1.94238511e-01 -2.09712117e-01 -1.02630894e-01\n",
      "  -9.46429875e-02  1.52276832e-01]\n",
      " [-2.91193428e-01 -2.67335737e-01  5.42099905e-03  3.27488767e-01\n",
      "  -1.94238511e-01  1.00469484e+00 -3.19328343e-01 -4.28181441e-02\n",
      "  -7.75528879e-03 -1.01016678e-02]\n",
      " [ 8.14207404e-01 -2.76735643e-01 -4.45833360e-01 -2.60810752e-01\n",
      "  -2.09712117e-01 -3.19328343e-01  1.00469484e+00 -1.13370737e-01\n",
      "   1.25554924e-01  9.56695102e-04]\n",
      " [-3.87831208e-04  3.28136226e-01 -4.94573208e-01  4.81654624e-01\n",
      "  -1.02630894e-01 -4.28181441e-02 -1.13370737e-01  1.00469484e+00\n",
      "  -5.89673036e-02  5.77861748e-01]\n",
      " [ 1.43681016e-01 -2.42479493e-01  8.34494798e-02 -7.47514567e-02\n",
      "  -9.46429875e-02 -7.75528879e-03  1.25554924e-01 -5.89673036e-02\n",
      "   1.00469484e+00 -1.89161496e-01]\n",
      " [-1.65008281e-01  5.05259066e-01 -7.48490507e-01  6.01640613e-01\n",
      "   1.52276832e-01 -1.01016678e-02  9.56695102e-04  5.77861748e-01\n",
      "  -1.89161496e-01  1.00469484e+00]]\n"
     ]
    }
   ],
   "source": [
    "cov_matrix2 = np.cov(centred_data, rowvar=False)\n",
    "print(cov_matrix2)"
   ]
  },
  {
   "cell_type": "code",
   "execution_count": 164,
   "metadata": {},
   "outputs": [
    {
     "name": "stdout",
     "output_type": "stream",
     "text": [
      "Eigenvalues:\n",
      "[3.06994294e+00 2.30209539e+00 1.41604105e+00 1.17180145e+00\n",
      " 9.18376172e-01 5.49992529e-01 3.71169347e-01 1.83531870e-01\n",
      " 1.61534547e-03 6.23822552e-02]\n",
      "Eigenvectors\n",
      "[[-2.55322493e-01  5.57990313e-01  9.21122120e-02 -1.44162055e-01\n",
      "  -7.43335671e-02  9.32507113e-02 -8.86906662e-02 -1.57562046e-01\n",
      "  -2.54519293e-02 -7.39343675e-01]\n",
      " [ 3.23838349e-01  3.97932800e-02 -3.49973608e-01 -5.24733387e-01\n",
      "   1.54032465e-01 -5.02174254e-01 -1.26298068e-01  2.84795484e-01\n",
      "   3.12605281e-01 -1.58214576e-01]\n",
      " [-3.87968015e-01 -3.80947241e-01 -2.50059531e-02 -3.29630864e-01\n",
      "   1.17903459e-01  2.04740671e-01  1.80224300e-01 -4.16539925e-01\n",
      "   5.76459169e-01 -3.10928479e-02]\n",
      " [ 4.42662921e-01 -6.07674893e-02  3.58029831e-01  1.06455896e-01\n",
      "   1.79819491e-02  5.44316899e-02  7.10375870e-01  1.65829179e-01\n",
      "   1.92869971e-01 -2.97019282e-01]\n",
      " [ 1.22202175e-01 -2.39827307e-01 -4.73860024e-01  6.36660969e-01\n",
      "   1.18984418e-02  1.10903123e-01 -2.13363872e-01  3.75872028e-02\n",
      "   2.98465218e-01 -3.86276428e-01]\n",
      " [ 6.80624397e-02 -2.65201936e-01  6.53789016e-01  6.57671850e-02\n",
      "  -3.08901697e-01 -2.58543325e-01 -5.00081793e-01  2.59094839e-02\n",
      "   2.60601141e-01 -1.11081376e-01]\n",
      " [-1.70367342e-01  5.79640169e-01  5.77714844e-04  2.69200297e-01\n",
      "  -1.86771130e-01 -1.23060121e-01  1.06336140e-01  1.20763237e-01\n",
      "   5.79237827e-01  3.88700742e-01]\n",
      " [ 3.94859403e-01  1.88055870e-01  1.20040590e-01 -1.85144499e-01\n",
      "   2.56525509e-01  7.04375247e-01 -3.54164806e-01  1.30314553e-01\n",
      "   1.98490052e-01  1.27554278e-01]\n",
      " [-1.61043307e-01  7.32212755e-02  2.68159551e-01  2.50209745e-01\n",
      "   8.71896455e-01 -2.60669914e-01 -7.19296877e-02 -2.24272554e-02\n",
      "   1.45902128e-02 -1.21354147e-02]\n",
      " [ 5.03020589e-01  1.83552505e-01 -4.38193342e-02  6.97717529e-02\n",
      "  -8.36020780e-03 -1.89374053e-01 -3.93469525e-02 -8.11731596e-01\n",
      "  -2.01530516e-03  1.00487213e-01]]\n"
     ]
    }
   ],
   "source": [
    "eigenvalues, eigenvectors = np.linalg.eig(cov_matrix2)\n",
    "print('Eigenvalues:')\n",
    "print(eigenvalues)\n",
    "print('Eigenvectors')\n",
    "print(eigenvectors)"
   ]
  },
  {
   "cell_type": "code",
   "execution_count": 165,
   "metadata": {},
   "outputs": [
    {
     "name": "stdout",
     "output_type": "stream",
     "text": [
      "Variance explained  [0.30555974154572335, 0.22913379394975145, 0.14094240339448558, 0.11663257433690825, 0.09140846949352636, 0.05474224706698415, 0.03694349109131829, 0.018267424478168818, 0.0062090749301175, 0.00016077971301621774]\n"
     ]
    }
   ],
   "source": [
    "##variance explained\n",
    "sumOfEigenValues = sum(eigenvalues)\n",
    "variance_explained =[(i/sumOfEigenValues) for i in sorted(eigenvalues, reverse=True)]\n",
    "print('Variance explained ' , variance_explained)\n"
   ]
  },
  {
   "cell_type": "code",
   "execution_count": 166,
   "metadata": {},
   "outputs": [
    {
     "data": {
      "image/png": "[encoded data removed]",
      "text/plain": [
       "<Figure size 640x480 with 1 Axes>"
      ]
     },
     "metadata": {},
     "output_type": "display_data"
    }
   ],
   "source": [
    "cum_sum_exp = np.cumsum(variance_explained)\n",
    "plt.bar(range(0,len(variance_explained)), variance_explained, alpha=0.5, align='center', width = 0.5, label='Individual explained variance')\n",
    "#plt.step(range(0,len(cum_sum_exp)), cum_sum_exp, where='mid',label='Cumulative explained variance')\n",
    "plt.step(range(0, len(cum_sum_exp)), cum_sum_exp, where='mid', label='Cumulative explained variance', linestyle='-')\n",
    "#plt.plot(range(0, len(cum_sum_exp)), cum_sum_exp, label='Cumulative explained variance', linestyle='-')\n",
    "plt.ylabel('Explained variance ratio')\n",
    "plt.ylim(0,1.2)\n",
    "#plt.xlim(0,13)\n",
    "plt.xlabel('Principal component index')\n",
    "plt.legend(loc='best')\n",
    "#plt.tight_layout()\n",
    "plt.show()"
   ]
  },
  {
   "cell_type": "code",
   "execution_count": 187,
   "metadata": {},
   "outputs": [
    {
     "data": {
      "image/png": "[encoded data removed]",
      "text/plain": [
       "<Figure size 1000x800 with 1 Axes>"
      ]
     },
     "metadata": {},
     "output_type": "display_data"
    }
   ],
   "source": [
    "##Visualising the data using the first 2 principal components \n",
    "from sklearn.preprocessing import StandardScaler\n",
    "\n",
    "# Create reduced dataset with just first 2 principal components \n",
    "reduced_data = centred_data.dot(eigenvectors[:,:2])\n",
    "#this line is not needed\n",
    "\n",
    "#scaling the reduced dataset\n",
    "scaler = StandardScaler()\n",
    "scaled_data = scaler.fit_transform(reduced_data)\n",
    "#calc covariance matrix\n",
    "cov_matrix3 = np.cov(scaled_data, rowvar=False)\n",
    "\n",
    "#  Eigen Decomposition\n",
    "eigenvalues1, eigenvectors1 = np.linalg.eig(cov_matrix3)\n",
    "top_eigenvectors = eigenvectors1[:,:2]\n",
    "pc_scores = np.dot(scaled_data, top_eigenvectors)\n",
    "#  Plot the PCA Graph with Colors for Glass Types\n",
    "plt.figure(figsize=(10, 8))\n",
    "for glass_type in data['Type of glass'].unique():\n",
    "    indices = data['Type of glass'] == glass_type\n",
    "    plt.scatter(pc_scores[indices, 0], pc_scores[indices, 1], label=glass_type)\n",
    "\n",
    "\n",
    "\n",
    "plt.xlabel('Principal Component 1')\n",
    "plt.ylabel('Principal Component 2')\n",
    "plt.xlim(-2,4)\n",
    "plt.ylim(-4,6)\n",
    "plt.title('PCA Plot with Different Glass Types')\n",
    "\n",
    "plt.grid()\n",
    "plt.legend()\n",
    "plt.show()"
   ]
  },
  {
   "cell_type": "code",
   "execution_count": 197,
   "metadata": {},
   "outputs": [
    {
     "ename": "IndexError",
     "evalue": "index 2 is out of bounds for axis 1 with size 2",
     "output_type": "error",
     "traceback": [
      "\u001b[1;31m---------------------------------------------------------------------------\u001b[0m",
      "\u001b[1;31mIndexError\u001b[0m                                Traceback (most recent call last)",
      "\u001b[1;32mc:\\Users\\mayur\\OneDrive\\Desktop\\Computer Science\\Year 3\\Final Project\\Notebook\\Intelligent Data Analysis\\Assignment\\Assignment.ipynb Cell 14\u001b[0m line \u001b[0;36m9\n\u001b[0;32m      <a href='vscode-notebook-cell:/c%3A/Users/mayur/OneDrive/Desktop/Computer%20Science/Year%203/Final%20Project/Notebook/Intelligent%20Data%20Analysis/Assignment/Assignment.ipynb#X25sZmlsZQ%3D%3D?line=6'>7</a>\u001b[0m \u001b[39mfor\u001b[39;00m glass_type \u001b[39min\u001b[39;00m data[\u001b[39m'\u001b[39m\u001b[39mType of glass\u001b[39m\u001b[39m'\u001b[39m]\u001b[39m.\u001b[39munique():\n\u001b[0;32m      <a href='vscode-notebook-cell:/c%3A/Users/mayur/OneDrive/Desktop/Computer%20Science/Year%203/Final%20Project/Notebook/Intelligent%20Data%20Analysis/Assignment/Assignment.ipynb#X25sZmlsZQ%3D%3D?line=7'>8</a>\u001b[0m     indices \u001b[39m=\u001b[39m data[\u001b[39m'\u001b[39m\u001b[39mType of glass\u001b[39m\u001b[39m'\u001b[39m] \u001b[39m==\u001b[39m glass_type\n\u001b[1;32m----> <a href='vscode-notebook-cell:/c%3A/Users/mayur/OneDrive/Desktop/Computer%20Science/Year%203/Final%20Project/Notebook/Intelligent%20Data%20Analysis/Assignment/Assignment.ipynb#X25sZmlsZQ%3D%3D?line=8'>9</a>\u001b[0m     plt\u001b[39m.\u001b[39mscatter(pc_scores[indices, \u001b[39m2\u001b[39;49m], pc_scores[indices,\u001b[39m3\u001b[39m], label\u001b[39m=\u001b[39mglass_type)\n\u001b[0;32m     <a href='vscode-notebook-cell:/c%3A/Users/mayur/OneDrive/Desktop/Computer%20Science/Year%203/Final%20Project/Notebook/Intelligent%20Data%20Analysis/Assignment/Assignment.ipynb#X25sZmlsZQ%3D%3D?line=10'>11</a>\u001b[0m plt\u001b[39m.\u001b[39mxlabel(\u001b[39m'\u001b[39m\u001b[39mPrincipal Component 3\u001b[39m\u001b[39m'\u001b[39m)\n\u001b[0;32m     <a href='vscode-notebook-cell:/c%3A/Users/mayur/OneDrive/Desktop/Computer%20Science/Year%203/Final%20Project/Notebook/Intelligent%20Data%20Analysis/Assignment/Assignment.ipynb#X25sZmlsZQ%3D%3D?line=11'>12</a>\u001b[0m plt\u001b[39m.\u001b[39mylabel(\u001b[39m'\u001b[39m\u001b[39mPrincipal Component 4\u001b[39m\u001b[39m'\u001b[39m)\n",
      "\u001b[1;31mIndexError\u001b[0m: index 2 is out of bounds for axis 1 with size 2"
     ]
    },
    {
     "data": {
      "text/plain": [
       "<Figure size 800x600 with 0 Axes>"
      ]
     },
     "metadata": {},
     "output_type": "display_data"
    }
   ],
   "source": [
    "import matplotlib.pyplot as plt\n",
    "pc_scores = np.dot(scaled_data, eigenvectors1)\n",
    "# Assuming 'pc_scores' is a DataFrame with principal component scores and 'data' contains glass types\n",
    "plt.figure(figsize=(8, 6))\n",
    "\n",
    "# Iterate over unique glass types and plot data points with different colors\n",
    "for glass_type in data['Type of glass'].unique():\n",
    "    indices = data['Type of glass'] == glass_type\n",
    "    plt.scatter(pc_scores[indices, 2], pc_scores[indices,3], label=glass_type)\n",
    "\n",
    "plt.xlabel('Principal Component 3')\n",
    "plt.ylabel('Principal Component 4')\n",
    "plt.title('PCA Plot of Principal Components 3 and 4 by Glass Type')\n",
    "plt.legend()\n",
    "plt.grid()\n",
    "plt.show()\n"
   ]
  },
  {
   "cell_type": "code",
   "execution_count": 155,
   "metadata": {},
   "outputs": [
    {
     "name": "stdout",
     "output_type": "stream",
     "text": [
      "Principal Component 1 - Feature Correlations:\n",
      "RI: 0.000\n",
      "Na: 0.002\n",
      "Mg: -0.002\n",
      "Al: -0.000\n",
      "Si: 0.001\n",
      "K: -0.001\n",
      "Ca: 0.002\n",
      "Be: -1.000\n",
      "Fe: -0.004\n",
      "Type of glass: -0.000\n",
      "\n",
      "Principal Component 2 - Feature Correlations:\n",
      "RI: -0.158\n",
      "Na: -0.200\n",
      "Mg: -0.543\n",
      "Al: 0.350\n",
      "Si: -0.534\n",
      "K: 0.312\n",
      "Ca: -0.037\n",
      "Be: 0.001\n",
      "Fe: -0.364\n",
      "Type of glass: -0.041\n",
      "\n",
      "Principal Component 3 - Feature Correlations:\n",
      "RI: 0.509\n",
      "Na: -0.322\n",
      "Mg: -0.299\n",
      "Al: 0.098\n",
      "Si: 0.626\n",
      "K: 0.049\n",
      "Ca: 0.009\n",
      "Be: 0.002\n",
      "Fe: -0.373\n",
      "Type of glass: -0.065\n",
      "\n",
      "Principal Component 4 - Feature Correlations:\n",
      "RI: -0.118\n",
      "Na: -0.100\n",
      "Mg: 0.099\n",
      "Al: -0.271\n",
      "Si: -0.063\n",
      "K: -0.303\n",
      "Ca: -0.804\n",
      "Be: -0.000\n",
      "Fe: -0.378\n",
      "Type of glass: -0.081\n",
      "\n",
      "Principal Component 5 - Feature Correlations:\n",
      "RI: -0.048\n",
      "Na: -0.092\n",
      "Mg: 0.714\n",
      "Al: 0.568\n",
      "Si: 0.006\n",
      "K: 0.095\n",
      "Ca: 0.061\n",
      "Be: 0.000\n",
      "Fe: -0.375\n",
      "Type of glass: -0.057\n",
      "\n",
      "Principal Component 6 - Feature Correlations:\n",
      "RI: 0.010\n",
      "Na: -0.110\n",
      "Mg: 0.235\n",
      "Al: -0.678\n",
      "Si: -0.121\n",
      "K: 0.482\n",
      "Ca: 0.281\n",
      "Be: 0.001\n",
      "Fe: -0.379\n",
      "Type of glass: -0.057\n",
      "\n",
      "Principal Component 7 - Feature Correlations:\n",
      "RI: -0.091\n",
      "Na: 0.877\n",
      "Mg: -0.151\n",
      "Al: 0.054\n",
      "Si: 0.208\n",
      "K: 0.107\n",
      "Ca: -0.007\n",
      "Be: 0.003\n",
      "Fe: -0.371\n",
      "Type of glass: -0.070\n",
      "\n",
      "Principal Component 8 - Feature Correlations:\n",
      "RI: -0.118\n",
      "Na: -0.056\n",
      "Mg: -0.083\n",
      "Al: -0.096\n",
      "Si: -0.134\n",
      "K: -0.737\n",
      "Ca: 0.515\n",
      "Be: 0.003\n",
      "Fe: -0.367\n",
      "Type of glass: -0.080\n",
      "\n",
      "Principal Component 9 - Feature Correlations:\n",
      "RI: 0.007\n",
      "Na: 0.010\n",
      "Mg: 0.004\n",
      "Al: -0.011\n",
      "Si: 0.007\n",
      "K: -0.029\n",
      "Ca: -0.006\n",
      "Be: 0.000\n",
      "Fe: -0.171\n",
      "Type of glass: 0.985\n",
      "\n",
      "Principal Component 10 - Feature Correlations:\n",
      "RI: -0.823\n",
      "Na: -0.231\n",
      "Mg: -0.105\n",
      "Al: -0.001\n",
      "Si: 0.493\n",
      "K: 0.108\n",
      "Ca: 0.055\n",
      "Be: 0.000\n",
      "Fe: 0.003\n",
      "Type of glass: 0.009\n",
      "\n"
     ]
    }
   ],
   "source": [
    "#printing the correlations between original features and each component in a PCA analysis\n",
    "#This loop iterates through each eigenvector (principal component) and its corresponding index i.\n",
    "for i, eigenvector in enumerate(eigenvectors):\n",
    "    print(f\"Principal Component {i + 1} - Feature Correlations:\")\n",
    "    #iterates through the elements of the eigenvector, which represent the coefficients (loadings) of the original features for the corresponding principal component.\n",
    "    for j, value in enumerate(eigenvector):\n",
    "        feature_name = centred_data.columns[j] \n",
    "        #prints the name of the feature along with the correlation (loading) value between the feature and the current principal component. \n",
    "        print(f\"{feature_name}: {value:.3f}\")\n",
    "    print()"
   ]
  }
 ],
 "metadata": {
  "kernelspec": {
   "display_name": "myenv",
   "language": "python",
   "name": "python3"
  },
  "language_info": {
   "codemirror_mode": {
    "name": "ipython",
    "version": 3
   },
   "file_extension": ".py",
   "mimetype": "text/x-python",
   "name": "python",
   "nbconvert_exporter": "python",
   "pygments_lexer": "ipython3",
   "version": "3.10.2"
  }
 },
 "nbformat": 4,
 "nbformat_minor": 2
}
